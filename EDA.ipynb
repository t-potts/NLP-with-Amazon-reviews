{
 "cells": [
  {
   "cell_type": "code",
   "execution_count": 1,
   "metadata": {},
   "outputs": [],
   "source": [
    "%load_ext autoreload\n",
    "%autoreload"
   ]
  },
  {
   "cell_type": "code",
   "execution_count": 2,
   "metadata": {},
   "outputs": [
    {
     "name": "stderr",
     "output_type": "stream",
     "text": [
      "Using TensorFlow backend.\n"
     ]
    }
   ],
   "source": [
    "import numpy as np\n",
    "import pandas as pd\n",
    "import matplotlib.pyplot as plt\n",
    "from sklearn.feature_extraction.text import CountVectorizer\n",
    "from sklearn.preprocessing import OneHotEncoder\n",
    "import re\n",
    "from keras.layers import Input, Dense\n",
    "from keras.models import Model, load_model\n",
    "from keras.callbacks import EarlyStopping, TensorBoard\n",
    "from keras import metrics\n",
    "\n",
    "\n",
    "#plt.style.use('seaborn')\n",
    "plt.style.use('ggplot')"
   ]
  },
  {
   "cell_type": "markdown",
   "metadata": {},
   "source": [
    "Reads a subcategory of Amazon reviews into a pandas dataframe, and saves 2000 rows as a .pkl file.\n",
    "\n",
    "Restarting Kernal while only running the following cell allows EDA without excessive memory use"
   ]
  },
  {
   "cell_type": "code",
   "execution_count": 3,
   "metadata": {},
   "outputs": [],
   "source": [
    "#Set 'small_sample_pickled' to False to create'data/small_df.pkl'\n",
    "small_sample_pickled = True\n",
    "\n",
    "if not small_sample_pickled:\n",
    "    df = pd.read_csv('data/gaming_reviews.tsv', sep='\\t', error_bad_lines=False)\n",
    "    df['text'] = df.review_headline + df.review_body\n",
    "    \n",
    "    #Drops any text that has a NaN\n",
    "    df = df[~df.text.isnull()].reset_index(drop=True)\n",
    "    df = df[['text', 'star_rating']]\n",
    "    \n",
    "    df = df[0:4000]\n",
    "    df.to_pickle('data/small_df.pkl')"
   ]
  },
  {
   "cell_type": "code",
   "execution_count": 4,
   "metadata": {},
   "outputs": [
    {
     "data": {
      "text/plain": [
       "(4000, 2)"
      ]
     },
     "execution_count": 4,
     "metadata": {},
     "output_type": "execute_result"
    }
   ],
   "source": [
    "df = pd.read_pickle(\"data/small_df.pkl\")\n",
    "df.shape"
   ]
  },
  {
   "cell_type": "code",
   "execution_count": null,
   "metadata": {},
   "outputs": [],
   "source": []
  },
  {
   "cell_type": "markdown",
   "metadata": {},
   "source": [
    "The review_headline and review_body columns will both be useful for prediction.\n",
    "Review date might be useful as well, such as day of the week reviewed. "
   ]
  },
  {
   "cell_type": "code",
   "execution_count": 5,
   "metadata": {},
   "outputs": [
    {
     "name": "stdout",
     "output_type": "stream",
     "text": [
      "1: 0.10\n",
      "2: 0.04\n",
      "3: 0.06\n",
      "4: 0.13\n",
      "5: 0.66\n"
     ]
    },
    {
     "data": {
      "image/png": "[encoded data removed]",
      "text/plain": [
       "<Figure size 720x360 with 1 Axes>"
      ]
     },
     "metadata": {
      "needs_background": "light"
     },
     "output_type": "display_data"
    }
   ],
   "source": [
    "#Creates a list with the number of ratings per star\n",
    "rating_count_list = []\n",
    "possible_ratings = [1, 2, 3, 4, 5]\n",
    "\n",
    "for rating in possible_ratings:\n",
    "    rating_count_list.append(df[df['star_rating'] == rating].shape[0])\n",
    "    \n",
    "#Creates array that stores fraction of the total star values\n",
    "rating_proportion = np.array(rating_count_list)/sum(rating_count_list)\n",
    "\n",
    "fig, ax = plt.subplots(figsize=(10, 5))\n",
    "ax.bar(possible_ratings, rating_count_list)\n",
    "\n",
    "ax.set_xlabel('Star rating')\n",
    "ax.set_ylabel('Count')\n",
    "ax.set_title('Number of ratings per star value')\n",
    "ax.text(0.5, 2500, 'Star rating fraction of total', fontsize=20)\n",
    "\n",
    "print('1: {:0.2f}'.format(rating_proportion[0]))\n",
    "print('2: {:0.2f}'.format(rating_proportion[1]))\n",
    "print('3: {:0.2f}'.format(rating_proportion[2]))\n",
    "print('4: {:0.2f}'.format(rating_proportion[3]))\n",
    "print('5: {:0.2f}'.format(rating_proportion[4]))"
   ]
  },
  {
   "cell_type": "code",
   "execution_count": 6,
   "metadata": {},
   "outputs": [],
   "source": [
    "strip_chars = \".?,!;:\\\"'()\" \n",
    "rgx = re.compile('[%s]' % strip_chars)\n",
    "\n",
    "def process_str(row):\n",
    "\n",
    "    body_list = []\n",
    "    try:\n",
    "        for word in row.lower().split(): \n",
    "            body_list.append(rgx.sub('', word))\n",
    "        return body_list\n",
    "    except Exception as e:\n",
    "        print(e)\n",
    "        return ['']"
   ]
  },
  {
   "cell_type": "code",
   "execution_count": 7,
   "metadata": {},
   "outputs": [],
   "source": [
    "#Count vectorizes text into a sparse vector\n",
    "cv = CountVectorizer(strip_accents='ascii')\n",
    "sparse_vec = cv.fit_transform(df.text)\n"
   ]
  },
  {
   "cell_type": "code",
   "execution_count": 8,
   "metadata": {},
   "outputs": [],
   "source": [
    "def autoencoder_model(X_train):\n",
    "    '''\n",
    "    defines autoencoder model\n",
    "    input: X_train (2D np array)\n",
    "    output: autoencoder (compiled autoencoder model)\n",
    "    '''\n",
    "    # this is our input placeholder\n",
    "    input_img = Input(shape=(X_train[0].shape[1],))\n",
    "\n",
    "    # first encoding layer\n",
    "    encoded1 = Dense(units = 256, activation = 'relu', name='layer1_256')(input_img)\n",
    "\n",
    "    # second encoding layer\n",
    "    # note that each layer is multiplied by the layer before\n",
    "    encoded2 = Dense(units = 64, activation='relu', name='layer2_64')(encoded1)\n",
    "\n",
    "    # first decoding layer\n",
    "    decoded1 = Dense(units = 256, activation='relu', name='layer3_256')(encoded2)\n",
    "\n",
    "    # second decoding layer - this produces the output\n",
    "    decoded2 = Dense(units = X_train[0].shape[1], activation='sigmoid', name='layer4_output')(decoded1)\n",
    "\n",
    "    # this model maps an input to its reconstruction\n",
    "    autoencoder = Model(input_img, decoded2)\n",
    "\n",
    "    # compile model\n",
    "    autoencoder.compile(optimizer = 'adam', loss = 'mean_squared_error', metrics=['mse'])\n",
    "\n",
    "    return autoencoder"
   ]
  },
  {
   "cell_type": "code",
   "execution_count": 9,
   "metadata": {},
   "outputs": [],
   "source": [
    "#Train test split for small sample size\n",
    "test_stop_index = int(sparse_vec.shape[0] * 0.1)\n",
    "X_test = sparse_vec[0:test_stop_index]\n",
    "y_test = np.array(df.star_rating)[0:test_stop_index]\n",
    "\n",
    "X_train = sparse_vec[test_stop_index:]\n",
    "y_train = np.array(df.star_rating)[test_stop_index:]\n",
    "\n",
    "#One hot encoding star rating into array for transfer-learned neural net\n",
    "enc = OneHotEncoder(categories='auto')\n",
    "enc.fit(y_test.reshape(-1,1))\n",
    "y_test = enc.transform(y_test.reshape(-1,1)).toarray()\n",
    "y_train = enc.transform(y_train.reshape(-1,1)).toarray()"
   ]
  },
  {
   "cell_type": "code",
   "execution_count": 10,
   "metadata": {},
   "outputs": [],
   "source": [
    "def batch_generator(X, batch_size, y=[]):\n",
    "    number_of_batches = samples_per_epoch/batch_size\n",
    "    counter=0\n",
    "    shuffle_index = np.arange(np.shape(X)[0])\n",
    "    np.random.shuffle(shuffle_index)\n",
    "    \n",
    "    while 1:\n",
    "        index_batch = shuffle_index[batch_size*counter:batch_size*(counter+1)]\n",
    "        X_batch = X[index_batch]\n",
    "        X_batch = X_batch.toarray()\n",
    "        counter += 1\n",
    "        \n",
    "        if y == []:\n",
    "            yield X_batch, X_batch\n",
    "        else:\n",
    "            yield X_batch, y[index_batch]\n",
    "        \n",
    "        \n",
    "        if (counter > number_of_batches):\n",
    "            np.random.shuffle(shuffle_index)\n",
    "            counter=0"
   ]
  },
  {
   "cell_type": "code",
   "execution_count": 11,
   "metadata": {},
   "outputs": [
    {
     "name": "stdout",
     "output_type": "stream",
     "text": [
      "WARNING:tensorflow:From /home/tyler/anaconda3/lib/python3.7/site-packages/tensorflow/python/framework/op_def_library.py:263: colocate_with (from tensorflow.python.framework.ops) is deprecated and will be removed in a future version.\n",
      "Instructions for updating:\n",
      "Colocations handled automatically by placer.\n",
      "WARNING:tensorflow:From /home/tyler/anaconda3/lib/python3.7/site-packages/tensorflow/python/ops/math_ops.py:3066: to_int32 (from tensorflow.python.ops.math_ops) is deprecated and will be removed in a future version.\n",
      "Instructions for updating:\n",
      "Use tf.cast instead.\n",
      " 32/400 [=>............................] - ETA: 1s"
     ]
    },
    {
     "name": "stderr",
     "output_type": "stream",
     "text": [
      "/home/tyler/anaconda3/lib/python3.7/site-packages/keras/engine/saving.py:327: UserWarning: Error in loading the saved optimizer state. As a result, your model is starting with a freshly initialized optimizer.\n",
      "  warnings.warn('Error in loading the saved optimizer '\n"
     ]
    },
    {
     "name": "stdout",
     "output_type": "stream",
     "text": [
      "400/400 [==============================] - 0s 1ms/step\n",
      "Test mse = 0.027439710516482592\n"
     ]
    }
   ],
   "source": [
    "autoencoder_model_created = True\n",
    "model_path = 'models/basic_autoencoder1.h5'\n",
    "\n",
    "if not autoencoder_model_created:\n",
    "    model = autoencoder_model(X_train)\n",
    "\n",
    "    batch_size = 1000\n",
    "    nb_epoch = 10\n",
    "    samples_per_epoch = 10\n",
    "\n",
    "    # instantiate callbacks\n",
    "    tensorboard = TensorBoard(log_dir='./autoencoder_logs', histogram_freq=2, batch_size=batch_size, write_graph=True, write_grads=True, write_images=True)\n",
    "    earlystopping = EarlyStopping(monitor='val_loss', patience=2)\n",
    "\n",
    "    # try different number of epochs - 10 gives good performanace \n",
    "    \"\"\"model.fit(X_train, X_train, epochs=10, batch_size=batch_size, verbose=1,\n",
    "              validation_split=0.1, callbacks = [earlystopping, tensorboard])\"\"\" # cross val to estimate test error\n",
    "\n",
    "\n",
    "    model.fit_generator(generator=batch_generator(X_train, batch_size),\n",
    "                        epochs=nb_epoch,\n",
    "                        samples_per_epoch=samples_per_epoch, validation_data=validation_generator)\n",
    "\n",
    "\n",
    "    scores = model.evaluate(X_test, X_test)\n",
    "    print('Test mse = {}'.format(scores[0]))\n",
    "\n",
    "    X_test_decoded = model.predict(X_test)\n",
    "    \n",
    "    model.save(model_path)\n",
    "\n",
    "else:\n",
    "    model = load_model(model_path)\n",
    "    scores = model.evaluate(X_test, X_test)\n",
    "    print('Test mse = {}'.format(scores[0]))\n"
   ]
  },
  {
   "cell_type": "code",
   "execution_count": 12,
   "metadata": {},
   "outputs": [
    {
     "name": "stdout",
     "output_type": "stream",
     "text": [
      "input_2\n",
      "layer1_256\n",
      "layer2_64\n",
      "layer3_256\n"
     ]
    }
   ],
   "source": [
    "for i in range(4):\n",
    "    print(model.layers[i].name)\n",
    "    model.layers[i].trainable = False"
   ]
  },
  {
   "cell_type": "code",
   "execution_count": 52,
   "metadata": {},
   "outputs": [],
   "source": [
    "ll = model.layers[3].output\n",
    "ll = Dense(units = 64, activation='relu', name='layer4_256')(ll)\n",
    "ll = Dense(5,activation=\"hard_sigmoid\", name='star_classification')(ll)\n",
    "new_model = Model(inputs=model.input, outputs=ll)\n",
    "\n",
    "new_model.compile(optimizer = 'adam', loss = 'categorical_crossentropy', metrics=[metrics.categorical_accuracy])"
   ]
  },
  {
   "cell_type": "code",
   "execution_count": 53,
   "metadata": {},
   "outputs": [
    {
     "name": "stdout",
     "output_type": "stream",
     "text": [
      "Epoch 1/15\n"
     ]
    },
    {
     "name": "stderr",
     "output_type": "stream",
     "text": [
      "/home/tyler/anaconda3/lib/python3.7/site-packages/ipykernel_launcher.py:13: DeprecationWarning: elementwise comparison failed; this will raise an error in the future.\n",
      "  del sys.path[0]\n"
     ]
    },
    {
     "name": "stdout",
     "output_type": "stream",
     "text": [
      "10/10 [==============================] - 1s 120ms/step - loss: 2.6226 - categorical_accuracy: 0.1958\n",
      "Epoch 2/15\n",
      "10/10 [==============================] - 1s 85ms/step - loss: 1.9717 - categorical_accuracy: 0.1238\n",
      "Epoch 3/15\n",
      "10/10 [==============================] - 1s 85ms/step - loss: 2.0624 - categorical_accuracy: 0.1210\n",
      "Epoch 4/15\n",
      "10/10 [==============================] - 1s 87ms/step - loss: 1.9562 - categorical_accuracy: 0.1184\n",
      "Epoch 5/15\n",
      "10/10 [==============================] - 1s 96ms/step - loss: 1.9945 - categorical_accuracy: 0.1136\n",
      "Epoch 6/15\n",
      "10/10 [==============================] - 1s 96ms/step - loss: 2.0291 - categorical_accuracy: 0.1142\n",
      "Epoch 7/15\n",
      "10/10 [==============================] - 1s 92ms/step - loss: 2.0301 - categorical_accuracy: 0.1182\n",
      "Epoch 8/15\n",
      "10/10 [==============================] - 1s 129ms/step - loss: 2.0266 - categorical_accuracy: 0.1184\n",
      "Epoch 9/15\n",
      "10/10 [==============================] - 1s 107ms/step - loss: 1.9780 - categorical_accuracy: 0.1136\n",
      "Epoch 10/15\n",
      "10/10 [==============================] - 1s 91ms/step - loss: 1.9916 - categorical_accuracy: 0.1162\n",
      "Epoch 11/15\n",
      "10/10 [==============================] - 1s 89ms/step - loss: 1.9545 - categorical_accuracy: 0.1220\n",
      "Epoch 12/15\n",
      "10/10 [==============================] - 1s 89ms/step - loss: 2.1559 - categorical_accuracy: 0.1330\n",
      "Epoch 13/15\n",
      "10/10 [==============================] - 1s 91ms/step - loss: 2.5093 - categorical_accuracy: 0.1280\n",
      "Epoch 14/15\n",
      "10/10 [==============================] - 1s 90ms/step - loss: 1.9897 - categorical_accuracy: 0.1150\n",
      "Epoch 15/15\n",
      "10/10 [==============================] - 1s 87ms/step - loss: 2.0442 - categorical_accuracy: 0.1016\n",
      "400/400 [==============================] - 0s 521us/step\n",
      "Test accuracy = 0.065\n"
     ]
    }
   ],
   "source": [
    "batch_size = 500\n",
    "nb_epoch = 15\n",
    "samples_per_epoch = 10\n",
    "\n",
    "# instantiate callbacks\n",
    "tensorboard = TensorBoard(log_dir='./autoencoder_logs', histogram_freq=2, batch_size=batch_size, write_graph=True, write_grads=True, write_images=True)\n",
    "earlystopping = EarlyStopping(monitor='val_loss', patience=2)\n",
    "\n",
    "# try different number of epochs - 10 gives good performanace \n",
    "\"\"\"model.fit(X_train, X_train, epochs=10, batch_size=batch_size, verbose=1,\n",
    "          validation_split=0.1, callbacks = [earlystopping, tensorboard])\"\"\" # cross val to estimate test error\n",
    "\n",
    "\n",
    "new_model.fit_generator(generator=batch_generator(X_train, batch_size, y_train),\n",
    "                    epochs=nb_epoch,\n",
    "                    steps_per_epoch=samples_per_epoch)\n",
    "\n",
    "\n",
    "scores = new_model.evaluate(X_test, y_test)\n",
    "print('Test accuracy = {}'.format(scores[1]))\n",
    "\n",
    "X_test_decoded = new_model.predict(X_test)\n",
    "\n",
    "model.save(model_path)"
   ]
  },
  {
   "cell_type": "code",
   "execution_count": 55,
   "metadata": {},
   "outputs": [
    {
     "data": {
      "text/plain": [
       "array([[0.5427205 , 0.        , 1.        , 1.        , 1.        ],\n",
       "       [0.5370773 , 0.        , 1.        , 1.        , 1.        ],\n",
       "       [0.49841645, 0.        , 1.        , 1.        , 1.        ],\n",
       "       [0.50373113, 0.        , 1.        , 1.        , 1.        ],\n",
       "       [0.48432446, 0.        , 1.        , 1.        , 1.        ],\n",
       "       [0.49842778, 0.        , 1.        , 1.        , 1.        ],\n",
       "       [0.48972172, 0.        , 1.        , 1.        , 1.        ],\n",
       "       [0.4780057 , 0.        , 1.        , 1.        , 1.        ],\n",
       "       [0.4741643 , 0.0013338 , 0.8763217 , 1.        , 1.        ],\n",
       "       [0.48255512, 0.        , 0.97937375, 1.        , 1.        ]],\n",
       "      dtype=float32)"
      ]
     },
     "execution_count": 55,
     "metadata": {},
     "output_type": "execute_result"
    }
   ],
   "source": [
    "y_pred = new_model.predict_on_batch(X_test.toarray())\n",
    "y_pred[0:10]\n"
   ]
  },
  {
   "cell_type": "code",
   "execution_count": 42,
   "metadata": {},
   "outputs": [
    {
     "data": {
      "text/plain": [
       "array([[0., 0., 0., 0., 1.],\n",
       "       [0., 0., 0., 0., 1.],\n",
       "       [0., 0., 0., 0., 1.],\n",
       "       ...,\n",
       "       [0., 0., 0., 0., 1.],\n",
       "       [0., 0., 0., 0., 1.],\n",
       "       [0., 0., 0., 0., 1.]], dtype=float32)"
      ]
     },
     "execution_count": 42,
     "metadata": {},
     "output_type": "execute_result"
    }
   ],
   "source": [
    "y_pred"
   ]
  },
  {
   "cell_type": "code",
   "execution_count": 21,
   "metadata": {},
   "outputs": [
    {
     "data": {
      "text/plain": [
       "array([[0, 0, 0, ..., 0, 0, 0],\n",
       "       [0, 0, 0, ..., 0, 0, 0],\n",
       "       [0, 0, 0, ..., 0, 0, 0],\n",
       "       ...,\n",
       "       [0, 0, 0, ..., 0, 0, 0],\n",
       "       [0, 0, 0, ..., 0, 0, 0],\n",
       "       [0, 0, 0, ..., 0, 0, 0]])"
      ]
     },
     "execution_count": 21,
     "metadata": {},
     "output_type": "execute_result"
    }
   ],
   "source": [
    "X_test.toarray()"
   ]
  },
  {
   "cell_type": "code",
   "execution_count": 16,
   "metadata": {},
   "outputs": [
    {
     "data": {
      "text/plain": [
       "array([[0., 0., 0., 0., 1.],\n",
       "       [0., 0., 0., 0., 1.],\n",
       "       [1., 0., 0., 0., 0.],\n",
       "       ...,\n",
       "       [0., 0., 0., 1., 0.],\n",
       "       [0., 0., 0., 0., 1.],\n",
       "       [0., 0., 0., 0., 1.]])"
      ]
     },
     "execution_count": 16,
     "metadata": {},
     "output_type": "execute_result"
    }
   ],
   "source": [
    "y_test"
   ]
  },
  {
   "cell_type": "code",
   "execution_count": 17,
   "metadata": {},
   "outputs": [
    {
     "name": "stderr",
     "output_type": "stream",
     "text": [
      "/home/tyler/anaconda3/lib/python3.7/site-packages/sklearn/preprocessing/_encoders.py:415: FutureWarning: The handling of integer data will change in version 0.22. Currently, the categories are determined based on the range [0, max(values)], while in the future they will be determined based on the unique values.\n",
      "If you want the future behaviour and silence this warning, you can specify \"categories='auto'\".\n",
      "In case you used a LabelEncoder before this OneHotEncoder to convert the categories to integers, then you can now use the OneHotEncoder directly.\n",
      "  warnings.warn(msg, FutureWarning)\n"
     ]
    },
    {
     "data": {
      "text/plain": [
       "array([[1., 0.],\n",
       "       [1., 0.],\n",
       "       [1., 0.],\n",
       "       ...,\n",
       "       [1., 0.],\n",
       "       [1., 0.],\n",
       "       [0., 1.]])"
      ]
     },
     "execution_count": 17,
     "metadata": {},
     "output_type": "execute_result"
    }
   ],
   "source": [
    "enc = OneHotEncoder()\n",
    "enc.fit(y_test.reshape(-1,1))\n",
    "enc.transform(y_test.reshape(-1,1)).toarray()\n",
    "enc.transform(y_train.reshape(-1,1)).toarray()"
   ]
  },
  {
   "cell_type": "code",
   "execution_count": null,
   "metadata": {},
   "outputs": [],
   "source": []
  }
 ],
 "metadata": {
  "file_extension": ".py",
  "kernelspec": {
   "display_name": "Python 3",
   "language": "python",
   "name": "python3"
  },
  "language_info": {
   "codemirror_mode": {
    "name": "ipython",
    "version": 3
   },
   "file_extension": ".py",
   "mimetype": "text/x-python",
   "name": "python",
   "nbconvert_exporter": "python",
   "pygments_lexer": "ipython3",
   "version": "3.7.3"
  },
  "mimetype": "text/x-python",
  "name": "python",
  "npconvert_exporter": "python",
  "pygments_lexer": "ipython3",
  "version": 3
 },
 "nbformat": 4,
 "nbformat_minor": 2
}
