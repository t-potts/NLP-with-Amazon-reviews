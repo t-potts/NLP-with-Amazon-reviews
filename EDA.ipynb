{
 "cells": [
  {
   "cell_type": "code",
   "execution_count": 26,
   "metadata": {},
   "outputs": [
    {
     "name": "stdout",
     "output_type": "stream",
     "text": [
      "The autoreload extension is already loaded. To reload it, use:\n",
      "  %reload_ext autoreload\n"
     ]
    }
   ],
   "source": [
    "%load_ext autoreload\n",
    "%autoreload"
   ]
  },
  {
   "cell_type": "code",
   "execution_count": 27,
   "metadata": {},
   "outputs": [],
   "source": [
    "import numpy as np\n",
    "import pandas as pd\n",
    "import matplotlib.pyplot as plt\n",
    "from sklearn.feature_extraction.text import CountVectorizer\n",
    "import re\n",
    "from keras.layers import Input, Dense\n",
    "from keras.models import Model\n",
    "from keras.callbacks import EarlyStopping, TensorBoard\n",
    "\n",
    "#plt.style.use('seaborn')\n",
    "plt.style.use('ggplot')"
   ]
  },
  {
   "cell_type": "markdown",
   "metadata": {},
   "source": [
    "Reads a subcategory of Amazon reviews into a pandas dataframe, and saves 2000 rows as a .pkl file.\n",
    "\n",
    "Restarting Kernal while only running the following cell allows EDA without excessive memory use"
   ]
  },
  {
   "cell_type": "code",
   "execution_count": 28,
   "metadata": {},
   "outputs": [],
   "source": [
    "#Set 'small_sample_pickled' to False to create'data/small_df.pkl'\n",
    "small_sample_pickled = True\n",
    "\n",
    "if not small_sample_pickled:\n",
    "    df = pd.read_csv('data/gaming_reviews.tsv', sep='\\t', error_bad_lines=False)\n",
    "    df = df[['review_body', 'review_headline', 'star_rating']]\n",
    "    df = df[0:4000]\n",
    "    df.to_pickle('data/small_df.pkl')"
   ]
  },
  {
   "cell_type": "code",
   "execution_count": 29,
   "metadata": {},
   "outputs": [
    {
     "data": {
      "text/plain": [
       "(4000, 3)"
      ]
     },
     "execution_count": 29,
     "metadata": {},
     "output_type": "execute_result"
    }
   ],
   "source": [
    "df = pd.read_pickle(\"data/small_df.pkl\")\n",
    "df.shape"
   ]
  },
  {
   "cell_type": "markdown",
   "metadata": {},
   "source": [
    "The review_headline and review_body columns will both be useful for prediction.\n",
    "Review date might be useful as well, such as day of the week reviewed. "
   ]
  },
  {
   "cell_type": "code",
   "execution_count": 30,
   "metadata": {},
   "outputs": [
    {
     "data": {
      "text/plain": [
       "Text(0.5, 1500, '5: 0.66')"
      ]
     },
     "execution_count": 30,
     "metadata": {},
     "output_type": "execute_result"
    },
    {
     "data": {
      "image/png": "[encoded data removed]",
      "text/plain": [
       "<Figure size 720x360 with 1 Axes>"
      ]
     },
     "metadata": {},
     "output_type": "display_data"
    }
   ],
   "source": [
    "#Creates a list with the number of ratings per star\n",
    "rating_count_list = []\n",
    "possible_ratings = [1, 2, 3, 4, 5]\n",
    "\n",
    "for rating in possible_ratings:\n",
    "    rating_count_list.append(df[df['star_rating'] == rating].shape[0])\n",
    "    \n",
    "#Creates array that stores fraction of the total star values\n",
    "rating_proportion = np.array(rating_count_list)/sum(rating_count_list)\n",
    "\n",
    "fig, ax = plt.subplots(figsize=(10, 5))\n",
    "ax.bar(possible_ratings, rating_count_list)\n",
    "\n",
    "ax.set_xlabel('Star rating')\n",
    "ax.set_ylabel('Count')\n",
    "ax.set_title('Number of ratings per star value')\n",
    "ax.text(0.5, 2500, 'Star rating fraction of total', fontsize=20)\n",
    "ax.text(0.5, 2300, '1: {:0.2f}'.format(rating_proportion[0]), fontsize=20)\n",
    "ax.text(0.5, 2100, '2: {:0.2f}'.format(rating_proportion[1]), fontsize=20)\n",
    "ax.text(0.5, 1900, '3: {:0.2f}'.format(rating_proportion[2]), fontsize=20)\n",
    "ax.text(0.5, 1700, '4: {:0.2f}'.format(rating_proportion[3]), fontsize=20)\n",
    "ax.text(0.5, 1500, '5: {:0.2f}'.format(rating_proportion[4]), fontsize=20)"
   ]
  },
  {
   "cell_type": "code",
   "execution_count": 31,
   "metadata": {},
   "outputs": [],
   "source": [
    "strip_chars = \".?,!;:\\\"'()\" \n",
    "rgx = re.compile('[%s]' % strip_chars)\n",
    "\n",
    "def process_str(row):\n",
    "\n",
    "    body_list = []\n",
    "    try:\n",
    "        for word in row.lower().split(): \n",
    "            body_list.append(rgx.sub('', word))\n",
    "        return body_list\n",
    "    except Exception as e:\n",
    "        print(e)\n",
    "        return ['']"
   ]
  },
  {
   "cell_type": "code",
   "execution_count": 32,
   "metadata": {},
   "outputs": [],
   "source": [
    "#Creates a new column with the count vectorized strings in preparation for autoencoding. \n",
    "#Drops unneeded columns\n",
    "df['text'] = df['review_headline'] + df['review_body']\n",
    "cv = CountVectorizer(strip_accents='ascii')\n",
    "sparse_vec = cv.fit_transform(df.text)\n"
   ]
  },
  {
   "cell_type": "code",
   "execution_count": 45,
   "metadata": {},
   "outputs": [],
   "source": [
    "def autoencoder_model(X_train):\n",
    "    '''\n",
    "    defines autoencoder model\n",
    "    input: X_train (2D np array)\n",
    "    output: autoencoder (compiled autoencoder model)\n",
    "    '''\n",
    "    # this is our input placeholder\n",
    "    input_img = Input(shape=(X_train[0].shape[1],))\n",
    "\n",
    "    # first encoding layer\n",
    "    encoded1 = Dense(units = 256, activation = 'relu')(input_img)\n",
    "\n",
    "    # second encoding layer\n",
    "    # note that each layer is multiplied by the layer before\n",
    "    encoded2 = Dense(units = 64, activation='relu')(encoded1)\n",
    "\n",
    "    # first decoding layer\n",
    "    decoded1 = Dense(units = 256, activation='relu')(encoded2)\n",
    "\n",
    "    # second decoding layer - this produces the output\n",
    "    decoded2 = Dense(units = X_train[0].shape[1], activation='sigmoid')(decoded1)\n",
    "\n",
    "    # this model maps an input to its reconstruction\n",
    "    autoencoder = Model(input_img, decoded2)\n",
    "\n",
    "    # compile model\n",
    "    autoencoder.compile(optimizer = 'adam', loss = 'mean_squared_error', metrics=['mse'])\n",
    "\n",
    "    return autoencoder"
   ]
  },
  {
   "cell_type": "code",
   "execution_count": 34,
   "metadata": {},
   "outputs": [],
   "source": [
    "X_train = sparse_vec[400:]\n",
    "X_test = sparse_vec[0:400]\n"
   ]
  },
  {
   "cell_type": "code",
   "execution_count": 48,
   "metadata": {},
   "outputs": [],
   "source": [
    "def batch_generator(X, batch_size):\n",
    "    number_of_batches = samples_per_epoch/batch_size\n",
    "    counter=0\n",
    "    shuffle_index = np.arange(np.shape(X)[0])\n",
    "    np.random.shuffle(shuffle_index)\n",
    "    \n",
    "    while 1:\n",
    "        index_batch = shuffle_index[batch_size*counter:batch_size*(counter+1)]\n",
    "        X_batch = X[index_batch]\n",
    "        X_batch = X_batch.toarray()\n",
    "        counter += 1\n",
    "        yield X_batch, X_batch\n",
    "        \n",
    "        \n",
    "        if (counter > number_of_batches):\n",
    "            np.random.shuffle(shuffle_index)\n",
    "            counter=0"
   ]
  },
  {
   "cell_type": "code",
   "execution_count": 36,
   "metadata": {},
   "outputs": [
    {
     "data": {
      "text/plain": [
       "(3600, 10485)"
      ]
     },
     "execution_count": 36,
     "metadata": {},
     "output_type": "execute_result"
    }
   ],
   "source": [
    "X_train.toarray().shape"
   ]
  },
  {
   "cell_type": "code",
   "execution_count": 43,
   "metadata": {},
   "outputs": [
    {
     "data": {
      "text/plain": [
       "1000"
      ]
     },
     "execution_count": 43,
     "metadata": {},
     "output_type": "execute_result"
    }
   ],
   "source": [
    "for thang in batch_generator(X_train, 1000):\n",
    "    batch = thang\n",
    "    break\n",
    "count = 0\n",
    "for i, thang in enumerate(batch[0]):\n",
    "    \n",
    "    count +=1\n",
    "   \n",
    "    \n",
    "   \n",
    "count  "
   ]
  },
  {
   "cell_type": "code",
   "execution_count": null,
   "metadata": {},
   "outputs": [],
   "source": []
  },
  {
   "cell_type": "code",
   "execution_count": null,
   "metadata": {},
   "outputs": [],
   "source": []
  },
  {
   "cell_type": "code",
   "execution_count": null,
   "metadata": {},
   "outputs": [
    {
     "name": "stderr",
     "output_type": "stream",
     "text": [
      "/home/tyler/anaconda3/lib/python3.7/site-packages/ipykernel_launcher.py:18: UserWarning: Update your `fit_generator` call to the Keras 2 API: `fit_generator(generator=<generator..., epochs=20, steps_per_epoch=10)`\n"
     ]
    },
    {
     "name": "stdout",
     "output_type": "stream",
     "text": [
      "Epoch 1/20\n",
      "10/10 [==============================] - 9s 870ms/step - loss: 0.2563 - mean_squared_error: 0.2563\n",
      "Epoch 2/20\n",
      "10/10 [==============================] - 8s 811ms/step - loss: 0.1417 - mean_squared_error: 0.1417\n",
      "Epoch 3/20\n",
      "10/10 [==============================] - 8s 824ms/step - loss: 0.0329 - mean_squared_error: 0.0329\n",
      "Epoch 4/20\n",
      "10/10 [==============================] - 8s 816ms/step - loss: 0.0150 - mean_squared_error: 0.0150\n",
      "Epoch 5/20\n",
      "10/10 [==============================] - 8s 820ms/step - loss: 0.0175 - mean_squared_error: 0.0175\n",
      "Epoch 6/20\n",
      "10/10 [==============================] - 8s 825ms/step - loss: 0.0120 - mean_squared_error: 0.0120\n",
      "Epoch 7/20\n",
      "10/10 [==============================] - 8s 814ms/step - loss: 0.0168 - mean_squared_error: 0.0168\n",
      "Epoch 8/20\n",
      "10/10 [==============================] - 8s 826ms/step - loss: 0.0166 - mean_squared_error: 0.0166\n",
      "Epoch 9/20\n",
      "10/10 [==============================] - 8s 819ms/step - loss: 0.0150 - mean_squared_error: 0.0150\n",
      "Epoch 10/20\n",
      "10/10 [==============================] - 8s 823ms/step - loss: 0.0172 - mean_squared_error: 0.0172\n",
      "Epoch 11/20\n",
      "10/10 [==============================] - 8s 819ms/step - loss: 0.0126 - mean_squared_error: 0.0126\n",
      "Epoch 12/20\n",
      " 8/10 [=======================>......] - ETA: 1s - loss: 0.0135 - mean_squared_error: 0.0135"
     ]
    }
   ],
   "source": [
    "model = autoencoder_model(X_train)\n",
    "\n",
    "\n",
    "\n",
    "# instantiate callbacks\n",
    "tensorboard = TensorBoard(log_dir='./autoencoder_logs', histogram_freq=2, batch_size=batch_size, write_graph=True, write_grads=True, write_images=True)\n",
    "earlystopping = EarlyStopping(monitor='val_loss', patience=2)\n",
    "\n",
    "# try different number of epochs - 10 gives good performanace \n",
    "\"\"\"model.fit(X_train, X_train, epochs=10, batch_size=batch_size, verbose=1,\n",
    "          validation_split=0.1, callbacks = [earlystopping, tensorboard])\"\"\" # cross val to estimate test error\n",
    "\n",
    "batch_size = 1000\n",
    "nb_epoch = 20\n",
    "samples_per_epoch = 10\n",
    "model.fit_generator(generator=batch_generator(X_train, batch_size),\n",
    "                    epochs=nb_epoch,\n",
    "                    samples_per_epoch=samples_per_epoch)\n",
    "\n",
    "\n",
    "scores = model.evaluate(X_test, X_test)\n",
    "print('Test mse = {}'.format(scores[0]))\n",
    "\n",
    "X_test_decoded = model.predict(X_test)\n",
    "\n",
    "\n",
    "\n"
   ]
  },
  {
   "cell_type": "code",
   "execution_count": null,
   "metadata": {},
   "outputs": [],
   "source": [
    "\n",
    "\n"
   ]
  },
  {
   "cell_type": "code",
   "execution_count": null,
   "metadata": {},
   "outputs": [],
   "source": []
  },
  {
   "cell_type": "code",
   "execution_count": null,
   "metadata": {},
   "outputs": [],
   "source": []
  },
  {
   "cell_type": "code",
   "execution_count": null,
   "metadata": {},
   "outputs": [],
   "source": []
  }
 ],
 "metadata": {
  "file_extension": ".py",
  "kernelspec": {
   "display_name": "Python 3",
   "language": "python",
   "name": "python3"
  },
  "language_info": {
   "codemirror_mode": {
    "name": "ipython",
    "version": 3
   },
   "file_extension": ".py",
   "mimetype": "text/x-python",
   "name": "python",
   "nbconvert_exporter": "python",
   "pygments_lexer": "ipython3",
   "version": "3.7.3"
  },
  "mimetype": "text/x-python",
  "name": "python",
  "npconvert_exporter": "python",
  "pygments_lexer": "ipython3",
  "version": 3
 },
 "nbformat": 4,
 "nbformat_minor": 2
}
