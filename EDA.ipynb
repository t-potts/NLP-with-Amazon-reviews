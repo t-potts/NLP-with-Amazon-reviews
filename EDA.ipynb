{
 "cells": [
  {
   "cell_type": "code",
   "execution_count": 26,
   "metadata": {},
   "outputs": [
    {
     "name": "stdout",
     "output_type": "stream",
     "text": [
      "The autoreload extension is already loaded. To reload it, use:\n",
      "  %reload_ext autoreload\n"
     ]
    }
   ],
   "source": [
    "%load_ext autoreload\n",
    "%autoreload"
   ]
  },
  {
   "cell_type": "code",
   "execution_count": 4,
   "metadata": {},
   "outputs": [],
   "source": [
    "import numpy as np\n",
    "import pandas as pd\n",
    "import matplotlib.pyplot as plt\n",
    "from sklearn.feature_extraction.text import CountVectorizer\n",
    "import re\n",
    "from keras.layers import Input, Dense\n",
    "from keras.models import Model\n",
    "from keras.callbacks import EarlyStopping, TensorBoard\n",
    "\n",
    "#plt.style.use('seaborn')\n",
    "plt.style.use('ggplot')"
   ]
  },
  {
   "cell_type": "markdown",
   "metadata": {},
   "source": [
    "Reads a subcategory of Amazon reviews into a pandas dataframe, and saves 2000 rows as a .pkl file.\n",
    "\n",
    "Restarting Kernal while only running the following cell allows EDA without excessive memory use"
   ]
  },
  {
   "cell_type": "code",
   "execution_count": 5,
   "metadata": {},
   "outputs": [],
   "source": [
    "#Set 'small_sample_pickled' to False to create'data/small_df.pkl'\n",
    "small_sample_pickled = True\n",
    "\n",
    "if not small_sample_pickled:\n",
    "    df = pd.read_csv('data/gaming_reviews.tsv', sep='\\t', error_bad_lines=False)\n",
    "    df['text'] = df.review_headline + df.review_body\n",
    "    \n",
    "    #Drops any text that has a NaN\n",
    "    df = df[~df.text.isnull()].reset_index(drop=True)\n",
    "    df = df[['text', 'star_rating']]\n",
    "    \n",
    "    df = df[0:4000]\n",
    "    df.to_pickle('data/small_df.pkl')"
   ]
  },
  {
   "cell_type": "code",
   "execution_count": 6,
   "metadata": {},
   "outputs": [
    {
     "data": {
      "text/plain": [
       "(4000, 2)"
      ]
     },
     "execution_count": 6,
     "metadata": {},
     "output_type": "execute_result"
    }
   ],
   "source": [
    "df = pd.read_pickle(\"data/small_df.pkl\")\n",
    "df.shape"
   ]
  },
  {
   "cell_type": "code",
   "execution_count": null,
   "metadata": {},
   "outputs": [],
   "source": []
  },
  {
   "cell_type": "markdown",
   "metadata": {},
   "source": [
    "The review_headline and review_body columns will both be useful for prediction.\n",
    "Review date might be useful as well, such as day of the week reviewed. "
   ]
  },
  {
   "cell_type": "code",
   "execution_count": 9,
   "metadata": {},
   "outputs": [
    {
     "name": "stdout",
     "output_type": "stream",
     "text": [
      "0.5 2300 1: 0.10\n",
      "0.5 2100 2: 0.04\n",
      "0.5 1900 3: 0.06\n",
      "0.5 1700 4: 0.13\n",
      "0.5 1500 5: 0.66\n"
     ]
    },
    {
     "data": {
      "image/png": "[encoded data removed]",
      "text/plain": [
       "<Figure size 720x360 with 1 Axes>"
      ]
     },
     "metadata": {},
     "output_type": "display_data"
    }
   ],
   "source": [
    "#Creates a list with the number of ratings per star\n",
    "rating_count_list = []\n",
    "possible_ratings = [1, 2, 3, 4, 5]\n",
    "\n",
    "for rating in possible_ratings:\n",
    "    rating_count_list.append(df[df['star_rating'] == rating].shape[0])\n",
    "    \n",
    "#Creates array that stores fraction of the total star values\n",
    "rating_proportion = np.array(rating_count_list)/sum(rating_count_list)\n",
    "\n",
    "fig, ax = plt.subplots(figsize=(10, 5))\n",
    "ax.bar(possible_ratings, rating_count_list)\n",
    "\n",
    "ax.set_xlabel('Star rating')\n",
    "ax.set_ylabel('Count')\n",
    "ax.set_title('Number of ratings per star value')\n",
    "ax.text(0.5, 2500, 'Star rating fraction of total', fontsize=20)\n",
    "\n",
    "print(0.5, 2300, '1: {:0.2f}'.format(rating_proportion[0]))\n",
    "print(0.5, 2100, '2: {:0.2f}'.format(rating_proportion[1]))\n",
    "print(0.5, 1900, '3: {:0.2f}'.format(rating_proportion[2]))\n",
    "print(0.5, 1700, '4: {:0.2f}'.format(rating_proportion[3]))\n",
    "print(0.5, 1500, '5: {:0.2f}'.format(rating_proportion[4]))"
   ]
  },
  {
   "cell_type": "code",
   "execution_count": 10,
   "metadata": {},
   "outputs": [],
   "source": [
    "strip_chars = \".?,!;:\\\"'()\" \n",
    "rgx = re.compile('[%s]' % strip_chars)\n",
    "\n",
    "def process_str(row):\n",
    "\n",
    "    body_list = []\n",
    "    try:\n",
    "        for word in row.lower().split(): \n",
    "            body_list.append(rgx.sub('', word))\n",
    "        return body_list\n",
    "    except Exception as e:\n",
    "        print(e)\n",
    "        return ['']"
   ]
  },
  {
   "cell_type": "code",
   "execution_count": 11,
   "metadata": {},
   "outputs": [],
   "source": [
    "#Count vectorizes text into a sparse vector\n",
    "cv = CountVectorizer(strip_accents='ascii')\n",
    "sparse_vec = cv.fit_transform(df.text)\n"
   ]
  },
  {
   "cell_type": "code",
   "execution_count": 12,
   "metadata": {},
   "outputs": [],
   "source": [
    "def autoencoder_model(X_train):\n",
    "    '''\n",
    "    defines autoencoder model\n",
    "    input: X_train (2D np array)\n",
    "    output: autoencoder (compiled autoencoder model)\n",
    "    '''\n",
    "    # this is our input placeholder\n",
    "    input_img = Input(shape=(X_train[0].shape[1],))\n",
    "\n",
    "    # first encoding layer\n",
    "    encoded1 = Dense(units = 256, activation = 'relu')(input_img)\n",
    "\n",
    "    # second encoding layer\n",
    "    # note that each layer is multiplied by the layer before\n",
    "    encoded2 = Dense(units = 64, activation='relu')(encoded1)\n",
    "\n",
    "    # first decoding layer\n",
    "    decoded1 = Dense(units = 256, activation='relu')(encoded2)\n",
    "\n",
    "    # second decoding layer - this produces the output\n",
    "    decoded2 = Dense(units = X_train[0].shape[1], activation='sigmoid')(decoded1)\n",
    "\n",
    "    # this model maps an input to its reconstruction\n",
    "    autoencoder = Model(input_img, decoded2)\n",
    "\n",
    "    # compile model\n",
    "    autoencoder.compile(optimizer = 'adam', loss = 'mean_squared_error', metrics=['mse'])\n",
    "\n",
    "    return autoencoder"
   ]
  },
  {
   "cell_type": "code",
   "execution_count": 21,
   "metadata": {},
   "outputs": [],
   "source": [
    "#Train test split for small sample size\n",
    "test_stop_index = int(sparse_vec.shape[0] * 0.1)\n",
    "X_test = sparse_vec[0:test_stop_index]\n",
    "X_train = sparse_vec[test_stop_index:]"
   ]
  },
  {
   "cell_type": "code",
   "execution_count": 22,
   "metadata": {},
   "outputs": [],
   "source": [
    "def batch_generator(X, batch_size):\n",
    "    number_of_batches = samples_per_epoch/batch_size\n",
    "    counter=0\n",
    "    shuffle_index = np.arange(np.shape(X)[0])\n",
    "    np.random.shuffle(shuffle_index)\n",
    "    \n",
    "    while 1:\n",
    "        index_batch = shuffle_index[batch_size*counter:batch_size*(counter+1)]\n",
    "        X_batch = X[index_batch]\n",
    "        X_batch = X_batch.toarray()\n",
    "        counter += 1\n",
    "        yield X_batch, X_batch\n",
    "        \n",
    "        \n",
    "        if (counter > number_of_batches):\n",
    "            np.random.shuffle(shuffle_index)\n",
    "            counter=0"
   ]
  },
  {
   "cell_type": "code",
   "execution_count": 23,
   "metadata": {},
   "outputs": [
    {
     "name": "stderr",
     "output_type": "stream",
     "text": [
      "/home/tyler/anaconda3/lib/python3.7/site-packages/ipykernel_launcher.py:18: UserWarning: Update your `fit_generator` call to the Keras 2 API: `fit_generator(generator=<generator..., epochs=10, steps_per_epoch=10)`\n"
     ]
    },
    {
     "name": "stdout",
     "output_type": "stream",
     "text": [
      "Epoch 1/10\n",
      "10/10 [==============================] - 9s 893ms/step - loss: 0.2519 - mean_squared_error: 0.2519\n",
      "Epoch 2/10\n",
      "10/10 [==============================] - 8s 840ms/step - loss: 0.1446 - mean_squared_error: 0.1446\n",
      "Epoch 3/10\n",
      "10/10 [==============================] - 11s 1s/step - loss: 0.0366 - mean_squared_error: 0.0366\n",
      "Epoch 4/10\n",
      "10/10 [==============================] - 14s 1s/step - loss: 0.0174 - mean_squared_error: 0.0174\n",
      "Epoch 5/10\n",
      "10/10 [==============================] - 10s 973ms/step - loss: 0.0169 - mean_squared_error: 0.0169\n",
      "Epoch 6/10\n",
      "10/10 [==============================] - 8s 809ms/step - loss: 0.0195 - mean_squared_error: 0.0195\n",
      "Epoch 7/10\n",
      "10/10 [==============================] - 9s 864ms/step - loss: 0.0177 - mean_squared_error: 0.0177\n",
      "Epoch 8/10\n",
      "10/10 [==============================] - 10s 959ms/step - loss: 0.0144 - mean_squared_error: 0.0144\n",
      "Epoch 9/10\n",
      "10/10 [==============================] - 8s 841ms/step - loss: 0.0174 - mean_squared_error: 0.0174\n",
      "Epoch 10/10\n",
      "10/10 [==============================] - 8s 830ms/step - loss: 0.0173 - mean_squared_error: 0.0173\n",
      "400/400 [==============================] - 0s 728us/step\n",
      "Test mse = 0.027448756042867898\n"
     ]
    }
   ],
   "source": [
    "model = autoencoder_model(X_train)\n",
    "\n",
    "batch_size = 1000\n",
    "nb_epoch = 10\n",
    "samples_per_epoch = 10\n",
    "\n",
    "# instantiate callbacks\n",
    "tensorboard = TensorBoard(log_dir='./autoencoder_logs', histogram_freq=2, batch_size=batch_size, write_graph=True, write_grads=True, write_images=True)\n",
    "earlystopping = EarlyStopping(monitor='val_loss', patience=2)\n",
    "\n",
    "# try different number of epochs - 10 gives good performanace \n",
    "\"\"\"model.fit(X_train, X_train, epochs=10, batch_size=batch_size, verbose=1,\n",
    "          validation_split=0.1, callbacks = [earlystopping, tensorboard])\"\"\" # cross val to estimate test error\n",
    "\n",
    "\n",
    "model.fit_generator(generator=batch_generator(X_train, batch_size),\n",
    "                    epochs=nb_epoch,\n",
    "                    samples_per_epoch=samples_per_epoch)\n",
    "\n",
    "\n",
    "scores = model.evaluate(X_test, X_test)\n",
    "print('Test mse = {}'.format(scores[0]))\n",
    "\n",
    "X_test_decoded = model.predict(X_test)\n",
    "\n",
    "\n",
    "\n"
   ]
  },
  {
   "cell_type": "code",
   "execution_count": null,
   "metadata": {},
   "outputs": [],
   "source": [
    "\n",
    "\n"
   ]
  },
  {
   "cell_type": "code",
   "execution_count": null,
   "metadata": {},
   "outputs": [],
   "source": []
  },
  {
   "cell_type": "code",
   "execution_count": null,
   "metadata": {},
   "outputs": [],
   "source": []
  },
  {
   "cell_type": "code",
   "execution_count": null,
   "metadata": {},
   "outputs": [],
   "source": []
  }
 ],
 "metadata": {
  "file_extension": ".py",
  "kernelspec": {
   "display_name": "Python 3",
   "language": "python",
   "name": "python3"
  },
  "language_info": {
   "codemirror_mode": {
    "name": "ipython",
    "version": 3
   },
   "file_extension": ".py",
   "mimetype": "text/x-python",
   "name": "python",
   "nbconvert_exporter": "python",
   "pygments_lexer": "ipython3",
   "version": "3.7.3"
  },
  "mimetype": "text/x-python",
  "name": "python",
  "npconvert_exporter": "python",
  "pygments_lexer": "ipython3",
  "version": 3
 },
 "nbformat": 4,
 "nbformat_minor": 2
}
