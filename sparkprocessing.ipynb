{
 "cells": [
  {
   "cell_type": "code",
   "execution_count": 1,
   "metadata": {},
   "outputs": [],
   "source": [
    "# Run command below with docker installed to download and run a spark docker instance:\n",
    "# docker run --name sparkbook -p 8881:8888 -v \"$PWD\":/home/jovyan/work jupyter/pyspark-notebook start.sh jupyter lab --LabApp.token=''\n",
    "# Next, open a web browser and navigate to localhost:8881 to enter docker container. This notebook can then be run."
   ]
  },
  {
   "cell_type": "code",
   "execution_count": 2,
   "metadata": {},
   "outputs": [
    {
     "name": "stdout",
     "output_type": "stream",
     "text": [
      "Requirement already satisfied: nltk in /opt/conda/lib/python3.7/site-packages (3.4.3)\n",
      "Requirement already satisfied: six in /opt/conda/lib/python3.7/site-packages (from nltk) (1.12.0)\n"
     ]
    }
   ],
   "source": [
    "import sys\n",
    "!{sys.executable} -m pip install nltk\n",
    "#Required when running from a newly created spark docker container"
   ]
  },
  {
   "cell_type": "code",
   "execution_count": 3,
   "metadata": {},
   "outputs": [
    {
     "name": "stderr",
     "output_type": "stream",
     "text": [
      "[nltk_data] Downloading package punkt to /home/jovyan/nltk_data...\n",
      "[nltk_data]   Package punkt is already up-to-date!\n",
      "[nltk_data] Downloading package stopwords to /home/jovyan/nltk_data...\n",
      "[nltk_data]   Package stopwords is already up-to-date!\n"
     ]
    },
    {
     "data": {
      "text/plain": [
       "True"
      ]
     },
     "execution_count": 3,
     "metadata": {},
     "output_type": "execute_result"
    }
   ],
   "source": [
    "import nltk\n",
    "nltk.download('punkt')\n",
    "nltk.download('stopwords')\n",
    "#required for nltk functionality"
   ]
  },
  {
   "cell_type": "code",
   "execution_count": 33,
   "metadata": {},
   "outputs": [],
   "source": [
    "from pyspark.sql import SparkSession, SQLContext\n",
    "from pyspark.sql.functions import udf\n",
    "from pyspark.ml.classification import RandomForestClassifier\n",
    "from pyspark.ml.feature import CountVectorizer, IDF\n",
    "from pyspark.ml import Pipeline\n",
    "from pyspark.sql.types import ArrayType, FloatType, StringType\n",
    "from nltk.stem.porter import PorterStemmer\n",
    "from pyspark import SparkConf, SparkContext\n",
    "from sklearn.decomposition import NMF\n",
    "import nltk\n",
    "from nltk.tokenize import sent_tokenize\n",
    "from nltk.tokenize import word_tokenize\n",
    "from nltk.corpus import stopwords\n",
    "from nltk.stem.porter import PorterStemmer\n",
    "import sys\n",
    "import string\n",
    "from collections import defaultdict\n",
    "import numpy as np"
   ]
  },
  {
   "cell_type": "code",
   "execution_count": 5,
   "metadata": {},
   "outputs": [],
   "source": [
    "#Creates Spark context and session.\n",
    "conf = SparkConf().setAll([('spark.executor.memory', '15g'), ('spark.driver.memory', '30g')])\n",
    "sc = SparkContext(conf=conf)\n",
    "spark = SparkSession.builder.appName(\"SimpleApp\").getOrCreate()"
   ]
  },
  {
   "cell_type": "code",
   "execution_count": 6,
   "metadata": {},
   "outputs": [
    {
     "name": "stdout",
     "output_type": "stream",
     "text": [
      "[('spark.driver.memory', '30g'), ('spark.app.name', 'SimpleApp'), ('spark.rdd.compress', 'True'), ('spark.driver.port', '40515'), ('spark.app.id', 'local-1562079182261'), ('spark.serializer.objectStreamReset', '100'), ('spark.master', 'local[*]'), ('spark.executor.id', 'driver'), ('spark.submit.deployMode', 'client'), ('spark.driver.host', 'a3343a2ac2ad'), ('spark.executor.memory', '15g'), ('spark.ui.showConsoleProgress', 'true')]\n"
     ]
    }
   ],
   "source": [
    "#prints current configuration of spark context\n",
    "print(sc.getConf().getAll())"
   ]
  },
  {
   "cell_type": "code",
   "execution_count": 7,
   "metadata": {},
   "outputs": [],
   "source": [
    "#Creates a spark datafrom from the amazon reviews file. Using .limit(x) will subset the first x items.\n",
    "df = spark.read.csv(\"data/gaming_reviews.tsv\", sep=\"\\t\", header=True, inferSchema=True).limit(500)"
   ]
  },
  {
   "cell_type": "code",
   "execution_count": 8,
   "metadata": {},
   "outputs": [
    {
     "data": {
      "text/plain": [
       "500"
      ]
     },
     "execution_count": 8,
     "metadata": {},
     "output_type": "execute_result"
    }
   ],
   "source": [
    "df.count()"
   ]
  },
  {
   "cell_type": "code",
   "execution_count": 9,
   "metadata": {},
   "outputs": [],
   "source": [
    "# Stopwords to filter from  \n",
    "stop_words = set(stopwords.words('english'))\n",
    "stop_words.add('')"
   ]
  },
  {
   "cell_type": "code",
   "execution_count": 37,
   "metadata": {},
   "outputs": [
    {
     "data": {
      "text/plain": [
       "Row(star_rating=5, body_list=['use', 'elit', 'danger', 'mac', 'amaz', 'joystick', 'especi', 'love', 'twist', 'stick', 'differ', 'movement', 'bind', 'well', 'move', 'normal', 'way'])"
      ]
     },
     "execution_count": 37,
     "metadata": {},
     "output_type": "execute_result"
    }
   ],
   "source": [
    "# removes punctuation, adds column 'body_list' which is a list of words, and selects only the star_rating and body_list columns\n",
    "stop_words = set(stopwords.words('english'))\n",
    "for word in ['', 1, 2, 3, 4, 5]:\n",
    "    stop_words.add(word)\n",
    "\n",
    "def process_str(row):\n",
    "    \"\"\"Input: String\n",
    "    Output: List of strings without punctuation\n",
    "    \n",
    "    Removes punctuation using functions from the strings library and stems using NLK. \n",
    "    Performs raw string operations in C via a lookup table for maximum performance.\"\"\"\n",
    "    stemmer = PorterStemmer()\n",
    "    word_list = row.translate(str.maketrans('', '', string.punctuation)).split(' ')\n",
    "    return [stemmer.stem(x.lower()) for x in word_list if x.lower() not in stop_words]\n",
    "\n",
    "process = udf(process_str, ArrayType(StringType()))\n",
    "\n",
    "df_new = df.withColumn('body_list', process(df['review_body']))\\\n",
    "        .withColumn('body_list', process(df['review_body']))\\\n",
    "        .select('star_rating', 'body_list')\n",
    "df_new.head()"
   ]
  },
  {
   "cell_type": "code",
   "execution_count": 36,
   "metadata": {},
   "outputs": [
    {
     "name": "stdout",
     "output_type": "stream",
     "text": [
      "use\n",
      "elit\n",
      "danger\n",
      "mac\n",
      "amaz\n",
      "joystick\n",
      "especi\n",
      "love\n",
      "twist\n",
      "stick\n",
      "differ\n",
      "movement\n",
      "bind\n",
      "well\n",
      "move\n",
      "normal\n",
      "way\n"
     ]
    }
   ],
   "source": [
    "stemmer = PorterStemmer()\n",
    "t = ['used', 'elite', 'dangerous', 'mac', 'amazing', \\\n",
    "     'joystick', 'especially', 'love', 'twist', 'stick', 'different', 'movement', 'bindings', 'well', 'move', 'normal', 'way']\n",
    "for token in t:\n",
    "    print(stemmer.stem(token))"
   ]
  },
  {
   "cell_type": "code",
   "execution_count": 49,
   "metadata": {},
   "outputs": [],
   "source": [
    "cv = CountVectorizer(inputCol=\"body_list\", outputCol=\"features\", minDF=0.001)\n",
    "idf = IDF(inputCol='features', outputCol = 'idf_features')\n",
    "rf = RandomForestClassifier(labelCol='star_rating', featuresCol='idf_features', seed=100)"
   ]
  },
  {
   "cell_type": "code",
   "execution_count": 48,
   "metadata": {},
   "outputs": [
    {
     "data": {
      "text/plain": [
       "float"
      ]
     },
     "execution_count": 48,
     "metadata": {},
     "output_type": "execute_result"
    }
   ],
   "source": [
    "type(0.001)"
   ]
  },
  {
   "cell_type": "code",
   "execution_count": 50,
   "metadata": {},
   "outputs": [],
   "source": [
    "# Stage one in pipeline the words are separated into count vectors\n",
    "stage1_fit = cv.fit(df_new)\n",
    "stage1_transform = stage1_fit.transform(df_new)"
   ]
  },
  {
   "cell_type": "code",
   "execution_count": 51,
   "metadata": {},
   "outputs": [],
   "source": [
    "# Stage two in pipeline for tf-IDF\n",
    "stage2_fit = idf.fit(stage1_transform)\n",
    "stage2_transform = stage2_fit.transform(stage1_transform)"
   ]
  },
  {
   "cell_type": "code",
   "execution_count": 52,
   "metadata": {},
   "outputs": [],
   "source": [
    "# Stage three in pipeline for random forest\n",
    "stage3_fit = rf.fit(stage2_transform)\n",
    "stage3_transform = stage3_fit.transform(stage2_transform)"
   ]
  },
  {
   "cell_type": "code",
   "execution_count": 53,
   "metadata": {},
   "outputs": [
    {
     "name": "stdout",
     "output_type": "stream",
     "text": [
      "open\n",
      "could\n",
      "compani\n",
      "work\n",
      "play\n",
      "even\n",
      "enemi\n",
      "would\n",
      "good\n",
      "useless\n",
      "unabl\n",
      "overal\n",
      "past\n",
      "return\n",
      "whole\n",
      "fix\n",
      "done\n",
      "15\n",
      "suggest\n",
      "netflix\n"
     ]
    }
   ],
   "source": [
    "# Function that prints the top n features\n",
    "def print_top_features(model, n=10):\n",
    "    \"\"\"\n",
    "    Input: RandomForest model, number of top feature words to print.\n",
    "    Output: None. Prints top n words to console.\n",
    "    \"\"\"\n",
    "    sorted_indices = np.flip(np.argsort(model.featureImportances.toArray()))\n",
    "    for i in range(20):\n",
    "        print(stage1_fit.vocabulary[sorted_indices[i]])\n",
    "print_top_features(stage3_fit);"
   ]
  },
  {
   "cell_type": "code",
   "execution_count": 54,
   "metadata": {},
   "outputs": [],
   "source": [
    "star_idf = stage3_transform.select('star_rating', 'idf_features')\n",
    "vocabulary = np.array(stage1_fit.vocabulary)"
   ]
  },
  {
   "cell_type": "code",
   "execution_count": 55,
   "metadata": {},
   "outputs": [],
   "source": [
    "nmf_model = NMF(n_components=10)"
   ]
  },
  {
   "cell_type": "code",
   "execution_count": 56,
   "metadata": {},
   "outputs": [],
   "source": [
    "X = [x[0].toArray() for x in star_idf.select('idf_features').collect()] \n",
    "nmf_fit = nmf_model.fit(X)\n",
    "nmf_transform = nmf_model.transform(X)"
   ]
  },
  {
   "cell_type": "code",
   "execution_count": 57,
   "metadata": {},
   "outputs": [
    {
     "name": "stdout",
     "output_type": "stream",
     "text": [
      "['sonic' 'level' '3d' '62' 'youll' 'boom' 'cooper' 'sli' 'charact' 'game']\n",
      "['dishonor' 'fp' 'play' 'caus' 'thief' 'get' 'gun' 'kill' 'ive' 'gamer']\n",
      "['disney' 'toybox' 'coaster' 'new' 'war' 'path' 'there' '30' 'level'\n",
      " 'infin']\n",
      "['batmobil' 'arkham' 'combat' 'citi' 'game' 'addit' 'commentari' 'it’'\n",
      " 'event' 'previou']\n",
      "['play' 'disney' 'jar' 'br' 'issu' 'split' 'player' 'game' '20' 'screen']\n",
      "['cod' 'skill' 'campaign' 'better' 'instal' 'almost' 'rather' 'caus'\n",
      " 'take' 'two']\n",
      "['sound' 'br' 'turtl' 'beach' 'ear' 'charg' 'hurt' 'often' 'turn' 'wear']\n",
      "['make' 'game' 'choic' 'charact' 'ultim' 'player' 'futur' 'decis' 'stori'\n",
      " 'decid']\n",
      "['ea' 'br' 'man' 'rate' 'yard' 'catch' 'draft' 'play' 'player' 'madden']\n",
      "['ps4' 'port' 'usb' 'stand' 'control' 'fan' 'charg' 'qualiti' 'dual' 'one']\n"
     ]
    }
   ],
   "source": [
    "for i in range(nmf_fit.components_.shape[0]):\n",
    "    print(vocabulary[np.flip(np.argsort(nmf_fit.components_[i, :]))[0:10]])"
   ]
  },
  {
   "cell_type": "code",
   "execution_count": 58,
   "metadata": {},
   "outputs": [
    {
     "data": {
      "text/plain": [
       "Row(star_rating=5, idf_features=SparseVector(2594, {10: 1.9399, 12: 2.4099, 16: 2.553, 23: 3.0811, 30: 2.8154, 113: 3.5775, 171: 4.0194, 218: 4.0194, 229: 4.4248, 439: 4.4248, 511: 4.4248, 916: 5.118, 982: 5.118, 1070: 5.118, 1128: 5.118, 2193: 5.5235, 2464: 5.5235}))"
      ]
     },
     "execution_count": 58,
     "metadata": {},
     "output_type": "execute_result"
    }
   ],
   "source": [
    "star_idf.head()"
   ]
  },
  {
   "cell_type": "code",
   "execution_count": 60,
   "metadata": {},
   "outputs": [],
   "source": [
    "pd = star_idf.select('*').toPandas()"
   ]
  },
  {
   "cell_type": "code",
   "execution_count": 76,
   "metadata": {},
   "outputs": [
    {
     "name": "stdout",
     "output_type": "stream",
     "text": [
      "<class 'pandas.core.frame.DataFrame'>\n",
      "RangeIndex: 500 entries, 0 to 499\n",
      "Data columns (total 2 columns):\n",
      "star_rating     500 non-null int32\n",
      "idf_features    500 non-null object\n",
      "dtypes: int32(1), object(1)\n",
      "memory usage: 21.6 KB\n"
     ]
    }
   ],
   "source": [
    "pd.info(memory_usage='deep')"
   ]
  },
  {
   "cell_type": "code",
   "execution_count": 68,
   "metadata": {},
   "outputs": [
    {
     "data": {
      "text/plain": [
       "0      (0.0, 0.0, 0.0, 0.0, 0.0, 0.0, 0.0, 0.0, 0.0, ...\n",
       "1      (2.398652528539881, 0.0, 0.0, 0.0, 2.089471716...\n",
       "2      (0.0, 0.0, 0.0, 1.6522579096170285, 0.0, 0.0, ...\n",
       "3      (1.1993262642699405, 0.0, 0.0, 0.0, 0.0, 0.0, ...\n",
       "4      (0.0, 2.7606483882667736, 0.0, 0.0, 0.0, 0.0, ...\n",
       "5      (0.0, 0.0, 0.0, 0.0, 0.0, 0.0, 0.0, 0.0, 0.0, ...\n",
       "6      (0.0, 0.0, 0.0, 0.0, 0.0, 0.0, 0.0, 0.0, 0.0, ...\n",
       "7      (0.0, 1.3803241941333868, 0.0, 0.0, 0.0, 0.0, ...\n",
       "8      (0.0, 0.0, 0.0, 0.0, 0.0, 0.0, 0.0, 0.0, 0.0, ...\n",
       "9      (0.0, 0.0, 0.0, 0.0, 0.0, 0.0, 0.0, 0.0, 0.0, ...\n",
       "10     (1.1993262642699405, 0.0, 0.0, 0.0, 0.0, 0.0, ...\n",
       "11     (0.0, 0.0, 0.0, 0.0, 4.178943432079547, 0.0, 0...\n",
       "12     (0.0, 0.0, 2.011913481693899, 0.0, 0.0, 0.0, 0...\n",
       "13     (1.1993262642699405, 1.3803241941333868, 0.0, ...\n",
       "14     (0.0, 0.0, 0.0, 0.0, 0.0, 0.0, 2.1912544103497...\n",
       "15     (0.0, 0.0, 0.0, 1.6522579096170285, 0.0, 0.0, ...\n",
       "16     (0.0, 1.3803241941333868, 0.0, 0.0, 0.0, 0.0, ...\n",
       "17     (0.0, 2.7606483882667736, 2.011913481693899, 1...\n",
       "18     (1.1993262642699405, 0.0, 0.0, 0.0, 0.0, 0.0, ...\n",
       "19     (0.0, 0.0, 0.0, 0.0, 0.0, 0.0, 0.0, 0.0, 0.0, ...\n",
       "20     (2.398652528539881, 0.0, 0.0, 0.0, 0.0, 0.0, 0...\n",
       "21     (0.0, 0.0, 0.0, 1.6522579096170285, 0.0, 0.0, ...\n",
       "22     (0.0, 0.0, 0.0, 0.0, 0.0, 0.0, 0.0, 1.96811085...\n",
       "23     (1.1993262642699405, 0.0, 0.0, 0.0, 0.0, 0.0, ...\n",
       "24     (0.0, 0.0, 0.0, 0.0, 0.0, 0.0, 0.0, 0.0, 0.0, ...\n",
       "25     (5.996631321349702, 0.0, 2.011913481693899, 0....\n",
       "26     (0.0, 0.0, 4.023826963387798, 4.95677372885108...\n",
       "27     (0.0, 0.0, 0.0, 0.0, 0.0, 0.0, 0.0, 0.0, 0.0, ...\n",
       "28     (1.1993262642699405, 1.3803241941333868, 0.0, ...\n",
       "29     (0.0, 0.0, 0.0, 0.0, 0.0, 0.0, 0.0, 0.0, 0.0, ...\n",
       "                             ...                        \n",
       "470    (0.0, 0.0, 0.0, 1.6522579096170285, 0.0, 0.0, ...\n",
       "471    (0.0, 0.0, 0.0, 1.6522579096170285, 0.0, 0.0, ...\n",
       "472    (0.0, 0.0, 0.0, 0.0, 0.0, 0.0, 0.0, 1.96811085...\n",
       "473    (1.1993262642699405, 0.0, 0.0, 0.0, 0.0, 0.0, ...\n",
       "474    (1.1993262642699405, 1.3803241941333868, 0.0, ...\n",
       "475    (0.0, 0.0, 0.0, 0.0, 0.0, 0.0, 0.0, 1.96811085...\n",
       "476    (0.0, 0.0, 0.0, 0.0, 0.0, 0.0, 0.0, 0.0, 0.0, ...\n",
       "477    (0.0, 0.0, 0.0, 0.0, 0.0, 0.0, 0.0, 1.96811085...\n",
       "478    (0.0, 0.0, 0.0, 0.0, 0.0, 0.0, 0.0, 0.0, 0.0, ...\n",
       "479    (2.398652528539881, 0.0, 0.0, 0.0, 0.0, 0.0, 0...\n",
       "480    (1.1993262642699405, 0.0, 0.0, 0.0, 0.0, 0.0, ...\n",
       "481    (0.0, 0.0, 0.0, 0.0, 0.0, 0.0, 0.0, 0.0, 0.0, ...\n",
       "482    (1.1993262642699405, 1.3803241941333868, 0.0, ...\n",
       "483    (27.58450407820863, 0.0, 38.22635615218408, 0....\n",
       "484    (0.0, 0.0, 0.0, 1.6522579096170285, 0.0, 0.0, ...\n",
       "485    (0.0, 0.0, 2.011913481693899, 0.0, 0.0, 0.0, 0...\n",
       "486    (0.0, 1.3803241941333868, 0.0, 0.0, 0.0, 0.0, ...\n",
       "487    (1.1993262642699405, 0.0, 0.0, 0.0, 0.0, 0.0, ...\n",
       "488    (5.996631321349702, 1.3803241941333868, 2.0119...\n",
       "489    (0.0, 1.3803241941333868, 0.0, 0.0, 0.0, 0.0, ...\n",
       "490    (1.1993262642699405, 1.3803241941333868, 0.0, ...\n",
       "491    (0.0, 1.3803241941333868, 0.0, 1.6522579096170...\n",
       "492    (1.1993262642699405, 1.3803241941333868, 0.0, ...\n",
       "493    (1.1993262642699405, 2.7606483882667736, 2.011...\n",
       "494    (0.0, 0.0, 0.0, 1.6522579096170285, 0.0, 0.0, ...\n",
       "495    (0.0, 0.0, 0.0, 3.304515819234057, 0.0, 0.0, 2...\n",
       "496    (3.5979787928098217, 0.0, 2.011913481693899, 3...\n",
       "497    (0.0, 2.7606483882667736, 0.0, 1.6522579096170...\n",
       "498    (0.0, 0.0, 0.0, 0.0, 0.0, 0.0, 0.0, 1.96811085...\n",
       "499    (0.0, 0.0, 0.0, 0.0, 0.0, 0.0, 0.0, 0.0, 0.0, ...\n",
       "Name: idf_features, Length: 500, dtype: object"
      ]
     },
     "execution_count": 68,
     "metadata": {},
     "output_type": "execute_result"
    }
   ],
   "source": []
  },
  {
   "cell_type": "code",
   "execution_count": null,
   "metadata": {},
   "outputs": [],
   "source": []
  }
 ],
 "metadata": {
  "kernelspec": {
   "display_name": "Python 3",
   "language": "python",
   "name": "python3"
  },
  "language_info": {
   "codemirror_mode": {
    "name": "ipython",
    "version": 3
   },
   "file_extension": ".py",
   "mimetype": "text/x-python",
   "name": "python",
   "nbconvert_exporter": "python",
   "pygments_lexer": "ipython3",
   "version": "3.7.3"
  }
 },
 "nbformat": 4,
 "nbformat_minor": 2
}
