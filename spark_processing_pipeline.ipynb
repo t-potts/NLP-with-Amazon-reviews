{
 "cells": [
  {
   "cell_type": "code",
   "execution_count": 1,
   "metadata": {},
   "outputs": [],
   "source": [
    "from pyspark.sql import SparkSession, SQLContext\n",
    "from pyspark.sql.functions import udf, concat, col, lit\n",
    "from pyspark.ml.classification import RandomForestClassifier\n",
    "from pyspark.ml.feature import CountVectorizer, IDF\n",
    "from pyspark.ml import Pipeline\n",
    "from pyspark.sql.types import ArrayType, FloatType, StringType\n",
    "from pyspark import SparkConf, SparkContext\n",
    "\n",
    "\n",
    "import sys\n",
    "from collections import defaultdict\n",
    "import numpy as np\n",
    "import re\n",
    "import time"
   ]
  },
  {
   "cell_type": "code",
   "execution_count": 2,
   "metadata": {},
   "outputs": [],
   "source": [
    "def process_str(row):\n",
    "\n",
    "    body_list = []\n",
    "    try:\n",
    "        for word in row.lower().split(): \n",
    "            word = rgx.value.sub('', word)  \n",
    "            body_list.append(word)\n",
    "        return body_list\n",
    "    except Exception as e:\n",
    "        print(e)\n",
    "        return ['']\n",
    "process = udf(process_str, ArrayType(StringType()))"
   ]
  },
  {
   "cell_type": "code",
   "execution_count": 3,
   "metadata": {},
   "outputs": [
    {
     "name": "stdout",
     "output_type": "stream",
     "text": [
      "************************************************************ \n",
      " [('spark.app.id', 'local-1563985731720'), ('spark.app.name', 'SimpleApp'), ('spark.rdd.compress', 'True'), ('spark.serializer.objectStreamReset', '100'), ('spark.master', 'local[*]'), ('spark.executor.id', 'driver'), ('spark.submit.deployMode', 'client'), ('spark.driver.host', 'd6d187d3a6f1'), ('spark.ui.showConsoleProgress', 'true'), ('spark.driver.port', '38697')] \n",
      " ************************************************************ \n",
      "\n"
     ]
    }
   ],
   "source": [
    "\n",
    "sc = SparkContext()\n",
    "spark = SparkSession.builder.appName(\"SimpleApp\").getOrCreate()\n",
    "print('*'*60, '\\n', sc.getConf().getAll(), '\\n', '*'*60, '\\n')\n"
   ]
  },
  {
   "cell_type": "code",
   "execution_count": 12,
   "metadata": {},
   "outputs": [],
   "source": [
    "#Imports data into spark dataframe\n",
    "#data = sc.textFile('s3://amazon-reviews-pds/amazon_reviews_us_Video_Games_v1_00.tsv.gz')\n",
    "repartition_num = 10\n",
    "data = sc.textFile('data/gaming_reviews.tsv')\n",
    "df = spark.read.csv(data, sep=\"\\t\", header=True, inferSchema=True)\n",
    "df = df.repartition(repartition_num)\n",
    "\n"
   ]
  },
  {
   "cell_type": "code",
   "execution_count": 13,
   "metadata": {},
   "outputs": [],
   "source": [
    "#Subset selection for testing purposes\n",
    "df = df.select('review_headline', 'review_body', 'star_rating').limit(100)"
   ]
  },
  {
   "cell_type": "code",
   "execution_count": 14,
   "metadata": {},
   "outputs": [
    {
     "data": {
      "text/plain": [
       "[Row(review_headline='Great game very dynamic', review_body='Great game very dynamic.  If you are a fan of open world RPGs you will live this game.  My 7yo daughter loves this game, and I also appreciate it at nearly 40.  Reminds me of awesome games I played in my youth on SNES.', star_rating=5)]"
      ]
     },
     "execution_count": 14,
     "metadata": {},
     "output_type": "execute_result"
    }
   ],
   "source": [
    "df.take(1)"
   ]
  },
  {
   "cell_type": "code",
   "execution_count": 6,
   "metadata": {},
   "outputs": [
    {
     "data": {
      "text/plain": [
       "[Row(marketplace='US', customer_id=868003, review_id='RI5PHK7J8SLRF', product_id='B00IVHQ0KI', product_parent=442260730, product_title='Thrustmaster Ferrari 458 Spider Racing Wheel for Xbox One', product_category='Video Games', star_rating=5, helpful_votes=1, total_votes=2, vine='N', verified_purchase='Y', review_headline='Great entry level racing wheel for the price', review_body=\"Absolutely no regrets in regards to the purchase of this product, great entry level racing wheel if you don't want to fork over a great. I've never previously owned a racing wheel before so it is only my humble opinion, for what it's worth.  I've had it for about a month and though I had my doubts before purchasing it, it's quickly become a permanent fixture for me.  The steering is very precise and responsive as well as the foot pedals and paddle shifter.  My only issues with it, albeit very minor ones, would probably be the D-pad and the foot pedals could be spaced apart a bit more.\", review_date=datetime.datetime(2015, 6, 25, 0, 0))]"
      ]
     },
     "execution_count": 6,
     "metadata": {},
     "output_type": "execute_result"
    }
   ],
   "source": [
    "df.take(1)"
   ]
  },
  {
   "cell_type": "code",
   "execution_count": null,
   "metadata": {},
   "outputs": [],
   "source": [
    "df_new = df.withColumn('body_list', process(df['review_body']))\\\n",
    "        .select('star_rating', 'body_list')\n",
    "\n",
    "print(\"-\"*30, '\\nFinished creating new_df\\n', \"-\"*30)\n",
    "print(df_new.count())\n",
    "\n",
    "cv = CountVectorizer(inputCol=\"body_list\", outputCol=\"features\")\n",
    "print(\"created cv line 67\")\n",
    "\n"
   ]
  },
  {
   "cell_type": "code",
   "execution_count": null,
   "metadata": {},
   "outputs": [],
   "source": [
    "stage1_fit = cv.fit(df_new)\n",
    "stage1_transform = stage1_fit.transform(df_new)\n",
    "stage1_transform.repartition(repartition_num)"
   ]
  }
 ],
 "metadata": {
  "kernelspec": {
   "display_name": "Python 3",
   "language": "python",
   "name": "python3"
  },
  "language_info": {
   "codemirror_mode": {
    "name": "ipython",
    "version": 3
   },
   "file_extension": ".py",
   "mimetype": "text/x-python",
   "name": "python",
   "nbconvert_exporter": "python",
   "pygments_lexer": "ipython3",
   "version": "3.7.3"
  }
 },
 "nbformat": 4,
 "nbformat_minor": 2
}
