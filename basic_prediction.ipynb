{
 "cells": [
  {
   "cell_type": "code",
   "execution_count": null,
   "metadata": {},
   "outputs": [],
   "source": [
    "%load_ext autoreload\n",
    "%autoreload"
   ]
  },
  {
   "cell_type": "code",
   "execution_count": null,
   "metadata": {},
   "outputs": [],
   "source": [
    "import numpy as np\n",
    "import pandas as pd\n",
    "import matplotlib.pyplot as plt\n",
    "from sklearn.feature_extraction.text import CountVectorizer\n",
    "from sklearn.preprocessing import OneHotEncoder\n",
    "import re\n",
    "from keras.layers import Input, Dense\n",
    "from keras.models import Model, load_model\n",
    "from keras.callbacks import EarlyStopping, TensorBoard\n",
    "from keras import metrics\n",
    "import json\n",
    "from helper_functions import import_data, neuralnet_model, batch_generator, count_stars, test_creator\n",
    "from sklearn.metrics import confusion_matrix\n",
    "from os import listdir\n",
    "import seaborn as sn\n",
    "from sklearn.metrics import roc_curve\n",
    "\n",
    "plt.style.use('seaborn')"
   ]
  },
  {
   "cell_type": "code",
   "execution_count": null,
   "metadata": {},
   "outputs": [],
   "source": [
    "model = load_model('models/first_one')"
   ]
  },
  {
   "cell_type": "code",
   "execution_count": null,
   "metadata": {},
   "outputs": [],
   "source": [
    "X_test, y_test = test_creator('test_data', 6000)\n",
    "size_gb = X_test.nbytes / 1000000000\n",
    "print(\"Test file size: {:0.2f} Gb\".format(size_gb))"
   ]
  },
  {
   "cell_type": "code",
   "execution_count": null,
   "metadata": {},
   "outputs": [],
   "source": [
    "y_predictions = model.predict(X_test)"
   ]
  },
  {
   "cell_type": "code",
   "execution_count": null,
   "metadata": {},
   "outputs": [],
   "source": [
    "confusions = confusion_matrix(y_test, y_predictions > 0.5)\n",
    "true_negative = confusions[0,0]\n",
    "false_positive = confusions[0,1]\n",
    "false_negative = confusions[1, 0]\n",
    "true_positive = confusions[1, 1]\n",
    "accuracy = (true_positive + true_negative) / (true_positive + true_negative + false_negative + false_positive)\n",
    "print('accuracy:', accuracy)\n",
    "print('true_positive:', true_positive)\n",
    "print('true_negatives:', true_negative)\n",
    "print('false_positive:', false_positive)\n",
    "print('false_negative:', false_negative)\n",
    "\n",
    "precision = true_positive / (true_positive + false_negative)\n",
    "recall = true_positive / (true_positive + false_positive)\n",
    "f1 = (2 * precision * recall) / (precision + recall)\n",
    "print('*'*50)\n",
    "print('accuracy: {:0.4f}'.format(accuracy))\n",
    "print('Recall: {:0.4f}'.format(true_positive / (true_positive + false_negative)))\n",
    "print('Precision: {:0.4f}'.format(true_positive / (true_positive + false_positive)))\n",
    "print('f1: {:0.4f}'.format(f1))"
   ]
  },
  {
   "cell_type": "code",
   "execution_count": null,
   "metadata": {},
   "outputs": [],
   "source": [
    "fpr, tpr, thresholds = roc_curve(y_test, y_predictions)"
   ]
  },
  {
   "cell_type": "code",
   "execution_count": null,
   "metadata": {},
   "outputs": [],
   "source": [
    "fig, ax = plt.subplots(figsize=(8, 6))\n",
    "ax.plot([0, 1], [0, 1], linestyle='--')\n",
    "ax.plot(fpr, tpr)\n",
    "ax.set_xlabel('False Positive Rate')\n",
    "ax.set_ylabel('True Positive Rate')\n",
    "ax.set_title('ROC curve')"
   ]
  },
  {
   "cell_type": "code",
   "execution_count": null,
   "metadata": {},
   "outputs": [],
   "source": [
    "confusions = confusion_matrix(y_test, y_predictions > 0.5)"
   ]
  },
  {
   "cell_type": "code",
   "execution_count": null,
   "metadata": {},
   "outputs": [],
   "source": [
    "true_negative = confusions[0,0]\n",
    "false_positive = confusions[0,1]\n",
    "false_negative = confusions[1, 0]\n",
    "true_positive = confusions[1, 1]"
   ]
  },
  {
   "cell_type": "code",
   "execution_count": null,
   "metadata": {},
   "outputs": [],
   "source": [
    "conf_df = pd.DataFrame([[true_positive, false_positive], [false_negative, true_negative]], \\\n",
    "                       ['predicted positive', 'predicted negative'], \\\n",
    "                       ['condition positive', 'condition negative'])\n"
   ]
  },
  {
   "cell_type": "code",
   "execution_count": null,
   "metadata": {},
   "outputs": [],
   "source": [
    "plt.figure(figsize=(15,10))\n",
    "sn.set(font_scale=3)\n",
    "sn.heatmap(conf_df, annot=True, annot_kws={'size': 26}, fmt='g')"
   ]
  },
  {
   "cell_type": "code",
   "execution_count": null,
   "metadata": {},
   "outputs": [],
   "source": []
  }
 ],
 "metadata": {
  "file_extension": ".py",
  "kernelspec": {
   "display_name": "Python 3",
   "language": "python",
   "name": "python3"
  },
  "language_info": {
   "codemirror_mode": {
    "name": "ipython",
    "version": 3
   },
   "file_extension": ".py",
   "mimetype": "text/x-python",
   "name": "python",
   "nbconvert_exporter": "python",
   "pygments_lexer": "ipython3",
   "version": "3.7.3"
  },
  "mimetype": "text/x-python",
  "name": "python",
  "npconvert_exporter": "python",
  "pygments_lexer": "ipython3",
  "version": 3
 },
 "nbformat": 4,
 "nbformat_minor": 2
}
